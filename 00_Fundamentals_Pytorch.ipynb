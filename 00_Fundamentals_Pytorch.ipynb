{
 "cells": [
  {
   "cell_type": "markdown",
   "id": "2fd5803f",
   "metadata": {},
   "source": [
    "# 00. Pytorch Fundamentals\n",
    " \n",
    "Learning Pytorch through Daniel Bourke's video class: \"Learn PyTorch for deep learning in a day. Literally.\"\n",
    "\n",
    "Link: https://www.youtube.com/watch?v=Z_ikDlimN6A\n",
    "\n",
    "His github: https://dbourke.link/pt-github"
   ]
  },
  {
   "cell_type": "code",
   "execution_count": 4,
   "id": "35d8f8bb-1e5a-4011-8b8b-8a00c0843443",
   "metadata": {},
   "outputs": [],
   "source": [
    "import pandas as pd\n",
    "import numpy as np\n",
    "import torch\n",
    "import sklearn\n",
    "import matplotlib\n",
    "import torchinfo, torchmetrics"
   ]
  },
  {
   "cell_type": "markdown",
   "id": "ee018dd4-d38f-4222-9d73-4da310091ca5",
   "metadata": {},
   "source": [
    "## Introduction to tensors\n",
    "### Creating Tensors\n",
    "\n",
    "PyTorch tensors are created using `torch.Tensor()` - https://pytorch.org/docs/stable/tensors.html"
   ]
  },
  {
   "cell_type": "code",
   "execution_count": 6,
   "id": "a552d48d-e5d7-4bc7-9be8-12546944d752",
   "metadata": {},
   "outputs": [
    {
     "data": {
      "text/plain": [
       "tensor(7)"
      ]
     },
     "execution_count": 6,
     "metadata": {},
     "output_type": "execute_result"
    }
   ],
   "source": [
    "# scalar\n",
    "scalar = torch.tensor(7)\n",
    "scalar"
   ]
  },
  {
   "cell_type": "code",
   "execution_count": 7,
   "id": "89f4b002-b8da-4d62-b126-9e9fa6bfe84f",
   "metadata": {},
   "outputs": [
    {
     "data": {
      "text/plain": [
       "0"
      ]
     },
     "execution_count": 7,
     "metadata": {},
     "output_type": "execute_result"
    }
   ],
   "source": [
    "scalar.ndim"
   ]
  },
  {
   "cell_type": "code",
   "execution_count": 8,
   "id": "22031dde-9714-42f0-a771-2292f4eb866d",
   "metadata": {},
   "outputs": [
    {
     "data": {
      "text/plain": [
       "7"
      ]
     },
     "execution_count": 8,
     "metadata": {},
     "output_type": "execute_result"
    }
   ],
   "source": [
    "scalar.item()"
   ]
  },
  {
   "cell_type": "code",
   "execution_count": 9,
   "id": "58303034-aa7f-43bc-a25e-96ebe314fe0d",
   "metadata": {},
   "outputs": [
    {
     "data": {
      "text/plain": [
       "tensor([7, 7])"
      ]
     },
     "execution_count": 9,
     "metadata": {},
     "output_type": "execute_result"
    }
   ],
   "source": [
    "vector = torch.tensor([7,7])\n",
    "vector"
   ]
  },
  {
   "cell_type": "code",
   "execution_count": 10,
   "id": "fd54a836-b7cb-49d6-9987-32dc7adbee8d",
   "metadata": {},
   "outputs": [
    {
     "data": {
      "text/plain": [
       "1"
      ]
     },
     "execution_count": 10,
     "metadata": {},
     "output_type": "execute_result"
    }
   ],
   "source": [
    "vector.ndim"
   ]
  },
  {
   "cell_type": "code",
   "execution_count": 11,
   "id": "5fa1989e-f681-4f91-955d-713dc2f4800c",
   "metadata": {},
   "outputs": [
    {
     "data": {
      "text/plain": [
       "torch.Size([2])"
      ]
     },
     "execution_count": 11,
     "metadata": {},
     "output_type": "execute_result"
    }
   ],
   "source": [
    "vector.shape"
   ]
  },
  {
   "cell_type": "code",
   "execution_count": 12,
   "id": "40911432-9d55-4134-987d-d3b3eaf5318d",
   "metadata": {},
   "outputs": [],
   "source": [
    "# MATRIX\n",
    "MATRIX = torch.tensor([\n",
    "    [7,8],[9,10]\n",
    "])"
   ]
  },
  {
   "cell_type": "code",
   "execution_count": 13,
   "id": "19ce26ff-c950-42a7-b5dd-bf6d2990ce43",
   "metadata": {},
   "outputs": [
    {
     "data": {
      "text/plain": [
       "2"
      ]
     },
     "execution_count": 13,
     "metadata": {},
     "output_type": "execute_result"
    }
   ],
   "source": [
    "MATRIX.ndim"
   ]
  },
  {
   "cell_type": "code",
   "execution_count": 14,
   "id": "10e0e9be-97e2-4db5-baef-cf4845044323",
   "metadata": {},
   "outputs": [
    {
     "data": {
      "text/plain": [
       "tensor([ 9, 10])"
      ]
     },
     "execution_count": 14,
     "metadata": {},
     "output_type": "execute_result"
    }
   ],
   "source": [
    "MATRIX[1]"
   ]
  },
  {
   "cell_type": "code",
   "execution_count": 15,
   "id": "b95deeae-90f1-4a73-8da0-e0eb2f0c0fe6",
   "metadata": {},
   "outputs": [
    {
     "data": {
      "text/plain": [
       "torch.Size([2, 2])"
      ]
     },
     "execution_count": 15,
     "metadata": {},
     "output_type": "execute_result"
    }
   ],
   "source": [
    "MATRIX.shape"
   ]
  },
  {
   "cell_type": "code",
   "execution_count": 16,
   "id": "38f0c9d5-9676-4b83-a8ba-e0eb00b171c6",
   "metadata": {},
   "outputs": [],
   "source": [
    "# TENSOR\n",
    "TENSOR = torch.tensor([\n",
    "    [\n",
    "        [1, 2 ,3 ],\n",
    "        [3 , 6, 9],\n",
    "        [2 , 2 , 6]\n",
    "    ], \n",
    "    [\n",
    "        [1, 2 , 3],\n",
    "        [3 , 6, 9],\n",
    "        [2 , 2 , 6]\n",
    "    ] \n",
    "])\n",
    "                      "
   ]
  },
  {
   "cell_type": "code",
   "execution_count": 17,
   "id": "2a16e160-5bb1-45cc-8b31-2a7df2a9873b",
   "metadata": {},
   "outputs": [
    {
     "data": {
      "text/plain": [
       "3"
      ]
     },
     "execution_count": 17,
     "metadata": {},
     "output_type": "execute_result"
    }
   ],
   "source": [
    "TENSOR.ndim"
   ]
  },
  {
   "cell_type": "code",
   "execution_count": 18,
   "id": "ca68cccc-730d-4380-8160-c4ef825e738d",
   "metadata": {},
   "outputs": [
    {
     "data": {
      "text/plain": [
       "torch.Size([2, 3, 3])"
      ]
     },
     "execution_count": 18,
     "metadata": {},
     "output_type": "execute_result"
    }
   ],
   "source": [
    "TENSOR.shape"
   ]
  },
  {
   "cell_type": "code",
   "execution_count": 19,
   "id": "9a4aec43-de9d-4511-b241-55818565d45f",
   "metadata": {},
   "outputs": [
    {
     "data": {
      "text/plain": [
       "tensor([[1, 2, 3],\n",
       "        [3, 6, 9],\n",
       "        [2, 2, 6]])"
      ]
     },
     "execution_count": 19,
     "metadata": {},
     "output_type": "execute_result"
    }
   ],
   "source": [
    "TENSOR[1]\n"
   ]
  },
  {
   "cell_type": "markdown",
   "id": "dc9b82ad-f01f-47f5-a567-6449c5407af2",
   "metadata": {},
   "source": [
    "![Tux, the Linux mascot](https://raw.githubusercontent.com/mrdbourke/pytorch-deep-learning/main/images/00-pytorch-different-tensor-dimensions.png)"
   ]
  },
  {
   "cell_type": "markdown",
   "id": "b594b5a3-d782-4093-8ea6-2d2f1337aa71",
   "metadata": {},
   "source": [
    "In my case it's a shaped like [2, 3, 3] because I have an array of 2 2D 3x3 Arrays as the tensor"
   ]
  },
  {
   "cell_type": "markdown",
   "id": "88d201b6-dd9d-4cc9-9275-4348db689233",
   "metadata": {},
   "source": [
    "### Random tensors\n",
    "\n",
    "Why random tensors?\n",
    "\n",
    "Random tensors are important because the way many neural networks learn is that they start with tensor full of random numbers and then adjust those numbers to better represent the data.\n",
    "\n",
    "`Start with random numbers -> look at data -> update random numbers -> look at data -> update random numbers `\n",
    "\n",
    "Torch random tensors - https://pytorch.org/docs/stable/generated/torch.rand.html"
   ]
  },
  {
   "cell_type": "code",
   "execution_count": 23,
   "id": "eec64c1b-518c-4877-af74-cd4b8bef0e6c",
   "metadata": {},
   "outputs": [
    {
     "data": {
      "text/plain": [
       "tensor([[0.3419, 0.2426, 0.6098, 0.2004],\n",
       "        [0.9822, 0.5209, 0.5324, 0.7372],\n",
       "        [0.3283, 0.5919, 0.4178, 0.2906]])"
      ]
     },
     "execution_count": 23,
     "metadata": {},
     "output_type": "execute_result"
    }
   ],
   "source": [
    "# Create a random tensor of size (3,4)\n",
    "random_tensor = torch.rand(3,4)\n",
    "\n",
    "random_tensor"
   ]
  },
  {
   "cell_type": "code",
   "execution_count": 24,
   "id": "dfd7e927-9942-4e3b-9d85-d8058389a930",
   "metadata": {},
   "outputs": [
    {
     "data": {
      "text/plain": [
       "2"
      ]
     },
     "execution_count": 24,
     "metadata": {},
     "output_type": "execute_result"
    }
   ],
   "source": [
    "random_tensor.ndim"
   ]
  },
  {
   "cell_type": "code",
   "execution_count": 25,
   "id": "48d9c660-406f-4db8-80d8-b74ec6c01831",
   "metadata": {},
   "outputs": [],
   "source": [
    "random_tensor = torch.rand(5,5,5)"
   ]
  },
  {
   "cell_type": "code",
   "execution_count": 26,
   "id": "8363b037-cdb2-4c67-b0c5-48aa98a0db09",
   "metadata": {},
   "outputs": [
    {
     "data": {
      "text/plain": [
       "3"
      ]
     },
     "execution_count": 26,
     "metadata": {},
     "output_type": "execute_result"
    }
   ],
   "source": [
    "random_tensor.ndim"
   ]
  },
  {
   "cell_type": "code",
   "execution_count": 27,
   "id": "7261c93f-3d85-4840-bccf-10cda48da351",
   "metadata": {},
   "outputs": [
    {
     "data": {
      "text/plain": [
       "(torch.Size([244, 244, 3]), 3)"
      ]
     },
     "execution_count": 27,
     "metadata": {},
     "output_type": "execute_result"
    }
   ],
   "source": [
    "#Create a random tensor with similar shape to an image tensor\n",
    "random_image_size_tensor = torch.rand(size = (244,244,3)) #height, width colour channel\n",
    "random_image_size_tensor.shape , random_image_size_tensor.ndim"
   ]
  },
  {
   "cell_type": "markdown",
   "id": "c0e99dea-faa5-4fcd-97d6-c090e20efc16",
   "metadata": {},
   "source": [
    "![Illustration of an image encoded in a Tensor](https://raw.githubusercontent.com/mrdbourke/pytorch-deep-learning/main/images/00-tensor-shape-example-of-image.png)"
   ]
  },
  {
   "cell_type": "code",
   "execution_count": 29,
   "id": "55c6f31a-2a3c-4243-8072-aede4e31a393",
   "metadata": {},
   "outputs": [
    {
     "data": {
      "text/plain": [
       "tensor([[[0., 0., 0.],\n",
       "         [0., 0., 0.],\n",
       "         [0., 0., 0.]],\n",
       "\n",
       "        [[0., 0., 0.],\n",
       "         [0., 0., 0.],\n",
       "         [0., 0., 0.]],\n",
       "\n",
       "        [[0., 0., 0.],\n",
       "         [0., 0., 0.],\n",
       "         [0., 0., 0.]]])"
      ]
     },
     "execution_count": 29,
     "metadata": {},
     "output_type": "execute_result"
    }
   ],
   "source": [
    "# Create a tensor of all zeros\n",
    "zeros = torch.zeros(3,3,3)\n",
    "zeros"
   ]
  },
  {
   "cell_type": "code",
   "execution_count": 30,
   "id": "47eab21b-693d-49ae-abd0-5bce8c4a281d",
   "metadata": {},
   "outputs": [
    {
     "data": {
      "text/plain": [
       "tensor([[[1., 1., 1.],\n",
       "         [1., 1., 1.],\n",
       "         [1., 1., 1.]],\n",
       "\n",
       "        [[1., 1., 1.],\n",
       "         [1., 1., 1.],\n",
       "         [1., 1., 1.]],\n",
       "\n",
       "        [[1., 1., 1.],\n",
       "         [1., 1., 1.],\n",
       "         [1., 1., 1.]]])"
      ]
     },
     "execution_count": 30,
     "metadata": {},
     "output_type": "execute_result"
    }
   ],
   "source": [
    "# Create a tensor of all ones\n",
    "ones = torch.ones(3,3,3)\n",
    "ones"
   ]
  },
  {
   "cell_type": "code",
   "execution_count": 31,
   "id": "af0ca432-f2d6-4caf-b5eb-262026238fed",
   "metadata": {},
   "outputs": [
    {
     "data": {
      "text/plain": [
       "torch.float32"
      ]
     },
     "execution_count": 31,
     "metadata": {},
     "output_type": "execute_result"
    }
   ],
   "source": [
    "ones.dtype"
   ]
  },
  {
   "cell_type": "code",
   "execution_count": 32,
   "id": "25800a16-f081-4137-82cc-7820fe894654",
   "metadata": {},
   "outputs": [
    {
     "data": {
      "text/plain": [
       "torch.float32"
      ]
     },
     "execution_count": 32,
     "metadata": {},
     "output_type": "execute_result"
    }
   ],
   "source": [
    "random_tensor.dtype"
   ]
  },
  {
   "cell_type": "code",
   "execution_count": 33,
   "id": "53dbdbb5-29ff-4aae-baf9-049613b64f6d",
   "metadata": {},
   "outputs": [
    {
     "name": "stderr",
     "output_type": "stream",
     "text": [
      "C:\\Users\\Tiago\\AppData\\Local\\Temp\\ipykernel_32536\\3881546731.py:2: UserWarning: torch.range is deprecated and will be removed in a future release because its behavior is inconsistent with Python's range builtin. Instead, use torch.arange, which produces values in [start, end).\n",
      "  torch.range(0,10)\n"
     ]
    },
    {
     "data": {
      "text/plain": [
       "tensor([ 0.,  1.,  2.,  3.,  4.,  5.,  6.,  7.,  8.,  9., 10.])"
      ]
     },
     "execution_count": 33,
     "metadata": {},
     "output_type": "execute_result"
    }
   ],
   "source": [
    "# Don't use torch.range() -> depracated\n",
    "torch.range(0,10)"
   ]
  },
  {
   "cell_type": "code",
   "execution_count": 34,
   "id": "2ffb110c-2573-4a17-93a8-772218ca9067",
   "metadata": {},
   "outputs": [
    {
     "data": {
      "text/plain": [
       "tensor([   0,  100,  200,  300,  400,  500,  600,  700,  800,  900, 1000])"
      ]
     },
     "execution_count": 34,
     "metadata": {},
     "output_type": "execute_result"
    }
   ],
   "source": [
    "# Use torch.arange()\n",
    "one_to_thousand=torch.arange(0,1001,100)\n",
    "one_to_thousand"
   ]
  },
  {
   "cell_type": "code",
   "execution_count": 35,
   "id": "17606648-5cbe-41c4-ba8e-4fcc117788f0",
   "metadata": {},
   "outputs": [
    {
     "data": {
      "text/plain": [
       "tensor([0, 0, 0, 0, 0, 0, 0, 0, 0, 0, 0])"
      ]
     },
     "execution_count": 35,
     "metadata": {},
     "output_type": "execute_result"
    }
   ],
   "source": [
    "# Creating tensors like\n",
    "ten_zeros = torch.zeros_like(one_to_thousand)\n",
    "ten_zeros"
   ]
  },
  {
   "cell_type": "markdown",
   "id": "4844967a-e413-4546-b77b-261cf16140c3",
   "metadata": {},
   "source": [
    "### Tensor datatypes\n",
    "\n",
    "**Note:** Tensor datatypes is one of the main errors you'll run into ith PyTorch & deep learning:\n",
    "1. Tensors not right datatype\n",
    "2. Tensors not right shape\n",
    "3. Tensors not on the right device"
   ]
  },
  {
   "cell_type": "code",
   "execution_count": 37,
   "id": "626d0a16-49f4-4159-a99c-301016875f21",
   "metadata": {},
   "outputs": [
    {
     "data": {
      "text/plain": [
       "(tensor([3., 6., 9.]), torch.float32)"
      ]
     },
     "execution_count": 37,
     "metadata": {},
     "output_type": "execute_result"
    }
   ],
   "source": [
    "#float 32 tensor\n",
    "float_32_tensor = torch.tensor([3.0 , 6.0,  9.0],\n",
    "                               dtype=None, # What is the datatype of the tensor \n",
    "                               device=None, # Where the computation is being made (CPU, GPU (cuda) or TPU)\n",
    "                               requires_grad=False ) # Wheter or not to track gradients with this tensors operations \n",
    "float_32_tensor ,float_32_tensor.dtype"
   ]
  },
  {
   "cell_type": "code",
   "execution_count": 38,
   "id": "680d6584-a60b-46a7-845a-f8aeaeb0c8b9",
   "metadata": {},
   "outputs": [
    {
     "data": {
      "text/plain": [
       "tensor([3., 6., 9.], dtype=torch.float16)"
      ]
     },
     "execution_count": 38,
     "metadata": {},
     "output_type": "execute_result"
    }
   ],
   "source": [
    "float_16_tensor = float_32_tensor.type(torch.float16)\n",
    "float_16_tensor"
   ]
  },
  {
   "cell_type": "code",
   "execution_count": 39,
   "id": "cf2f2727-b06c-4dde-93a4-ba79465c40e9",
   "metadata": {},
   "outputs": [
    {
     "data": {
      "text/plain": [
       "(tensor([ 9., 36., 81.]), torch.float32)"
      ]
     },
     "execution_count": 39,
     "metadata": {},
     "output_type": "execute_result"
    }
   ],
   "source": [
    "new_tensor = float_16_tensor * float_32_tensor\n",
    "new_tensor, new_tensor.dtype"
   ]
  },
  {
   "cell_type": "code",
   "execution_count": 40,
   "id": "c231c5de-48b9-4628-81ea-d79259d955a0",
   "metadata": {},
   "outputs": [
    {
     "data": {
      "text/plain": [
       "(tensor([3, 6, 9]), torch.int64)"
      ]
     },
     "execution_count": 40,
     "metadata": {},
     "output_type": "execute_result"
    }
   ],
   "source": [
    "int_32_tensor = torch.tensor([3 , 6 , 9])\n",
    "int_32_tensor, int_32_tensor.dtype"
   ]
  },
  {
   "cell_type": "code",
   "execution_count": 41,
   "id": "167ae685-9afb-4c63-b362-d3aea26aae19",
   "metadata": {},
   "outputs": [
    {
     "data": {
      "text/plain": [
       "tensor([ 9., 36., 81.])"
      ]
     },
     "execution_count": 41,
     "metadata": {},
     "output_type": "execute_result"
    }
   ],
   "source": [
    "float_32_tensor * int_32_tensor"
   ]
  },
  {
   "cell_type": "markdown",
   "id": "8d70a147-e546-4aed-9ae8-c55973302bc5",
   "metadata": {
    "jp-MarkdownHeadingCollapsed": true
   },
   "source": [
    "### Getting information from tensors\n",
    "\n",
    "1. **Datatype** - to get `dtype` from a tensor, can use `tensor.dtype`\n",
    "2. **Shape** - to get `shape` from a tensor, can use `tensor.shape`\n",
    "3. **Device** - to get `device` from a tensor, can use `tensor.device`"
   ]
  },
  {
   "cell_type": "code",
   "execution_count": 43,
   "id": "abedd0af-22f5-47d5-9177-349b568ea84d",
   "metadata": {
    "editable": true,
    "slideshow": {
     "slide_type": ""
    },
    "tags": []
   },
   "outputs": [],
   "source": [
    "random_tensor = torch.rand(3,3,3)"
   ]
  },
  {
   "cell_type": "code",
   "execution_count": 44,
   "id": "4d1dd7ca-e71f-4e48-8c10-58a82dc2773a",
   "metadata": {},
   "outputs": [
    {
     "data": {
      "text/plain": [
       "(torch.int64, torch.Size([3]), device(type='cpu'))"
      ]
     },
     "execution_count": 44,
     "metadata": {},
     "output_type": "execute_result"
    }
   ],
   "source": [
    "int_32_tensor.dtype, int_32_tensor.shape, int_32_tensor.device"
   ]
  },
  {
   "cell_type": "markdown",
   "id": "f9c3f1bc-bca1-4e24-ad13-01f0a5f5d013",
   "metadata": {},
   "source": [
    "### Changing device\n",
    "\n",
    "#### Processing Devices\n",
    "\n",
    "**CPU** :`\"cpu\"` , \n",
    "**GPU** : `\"cuda\"` , `\"cuda:X\"` (When you have multiple GPUs you can choose wich one by specifying the index),\n",
    "\n",
    "**Others**: `\"mps\"` , `\"xpu\"` , `\"xla\"` or `\"meta\"`\n",
    "\n",
    "\n",
    "*Same logic applies to running models and model training*"
   ]
  },
  {
   "cell_type": "code",
   "execution_count": 46,
   "id": "fc72b7f2-e3bb-4799-bc75-f2b541450f6b",
   "metadata": {},
   "outputs": [
    {
     "name": "stdout",
     "output_type": "stream",
     "text": [
      "True\n",
      "False\n"
     ]
    }
   ],
   "source": [
    "# Check if CUDA (GPU) is available\n",
    "print(torch.cuda.is_available())  # Returns True if CUDA is available, otherwise False\n",
    "\n",
    "# Check if MPS (Apple Silicon) is available\n",
    "print(torch.backends.mps.is_available())  # Returns True if MPS is available, otherwise False"
   ]
  },
  {
   "cell_type": "code",
   "execution_count": 47,
   "id": "f3e88fc7-38e9-41e1-9ebf-64a4c6a5d558",
   "metadata": {},
   "outputs": [],
   "source": [
    "# Define the GPU device (if available)\n",
    "device = torch.device('cuda' if torch.cuda.is_available() else 'cpu')\n",
    "\n",
    "# Create a tensor and move it to the GPU through function chaining\n",
    "tensor_gpu = torch.tensor([1, 2, 3]).to(device)"
   ]
  },
  {
   "cell_type": "code",
   "execution_count": 48,
   "id": "9d698c67-ec8e-4732-8b9b-3b4d95f89314",
   "metadata": {},
   "outputs": [],
   "source": [
    "# Create a tensor directly on the GPU \n",
    "tensor_gpu = torch.tensor([1, 2, 3], device='cuda')"
   ]
  },
  {
   "cell_type": "code",
   "execution_count": 49,
   "id": "482764f4-79cd-4448-9ac0-a134fd0246d3",
   "metadata": {},
   "outputs": [],
   "source": [
    "# If you have multiple GPU's a tensor directly on the GPU \n",
    "device = torch.device('cuda:0')  # Use the first GPU\n",
    "tensor_gpu = torch.tensor([1, 2, 3], device=device)\n"
   ]
  },
  {
   "cell_type": "code",
   "execution_count": 50,
   "id": "79aa3706-aeac-45da-9072-386a76eca0fb",
   "metadata": {},
   "outputs": [],
   "source": [
    "# Create a tensor on the CPU\n",
    "tensor_cpu = torch.tensor([1, 2, 3])\n",
    "\n",
    "# Move it to the GPU (if available)\n",
    "tensor_gpu = tensor_cpu.to('cuda')\n",
    "\n",
    "# Move it back to the CPU\n",
    "tensor_cpu_again = tensor_gpu.to('cpu')"
   ]
  },
  {
   "cell_type": "markdown",
   "id": "12921749-1a9e-4c4b-800e-5a79795ce9cf",
   "metadata": {},
   "source": [
    "### Manipulationg Tensors (Tensor operations)\n",
    "\n",
    "Tensor operations include:\n",
    "* Addition\n",
    "* Subtraction\n",
    "* Multiplication (element-wise)\n",
    "* Division\n",
    "* Matrix multiplication"
   ]
  },
  {
   "cell_type": "markdown",
   "id": "1ad23b5b-f5bd-4f80-af34-f1f3fb8f9a90",
   "metadata": {},
   "source": [
    "#### Arithmetic operations"
   ]
  },
  {
   "cell_type": "code",
   "execution_count": 53,
   "id": "3e74634e-2fc2-47ed-b3a1-f9b33fa4fcc9",
   "metadata": {},
   "outputs": [
    {
     "data": {
      "text/plain": [
       "tensor([10.2540, 10.7716, 10.1775])"
      ]
     },
     "execution_count": 53,
     "metadata": {},
     "output_type": "execute_result"
    }
   ],
   "source": [
    "# Create a tensor and add 10 to it\n",
    "tensor = torch.rand(3)\n",
    "tensor + 10"
   ]
  },
  {
   "cell_type": "code",
   "execution_count": 54,
   "id": "7d9d1637-79f8-42c2-8455-c12783dd75b2",
   "metadata": {},
   "outputs": [
    {
     "data": {
      "text/plain": [
       "tensor([2.5397, 7.7157, 1.7753])"
      ]
     },
     "execution_count": 54,
     "metadata": {},
     "output_type": "execute_result"
    }
   ],
   "source": [
    "# Multiply by 10\n",
    "tensor * 10"
   ]
  },
  {
   "cell_type": "code",
   "execution_count": 55,
   "id": "09131fc5-f0f4-4bdd-a555-a89f6b714036",
   "metadata": {},
   "outputs": [
    {
     "data": {
      "text/plain": [
       "tensor([-9.7460, -9.2284, -9.8225])"
      ]
     },
     "execution_count": 55,
     "metadata": {},
     "output_type": "execute_result"
    }
   ],
   "source": [
    "# Subtract by 10\n",
    "tensor - 10"
   ]
  },
  {
   "cell_type": "code",
   "execution_count": 56,
   "id": "69ec5af3-25ed-4ff0-8e8e-ea061d1e1db3",
   "metadata": {},
   "outputs": [
    {
     "data": {
      "text/plain": [
       "tensor([0.0254, 0.0772, 0.0178])"
      ]
     },
     "execution_count": 56,
     "metadata": {},
     "output_type": "execute_result"
    }
   ],
   "source": [
    "# Division by 10\n",
    "tensor / 10"
   ]
  },
  {
   "cell_type": "code",
   "execution_count": 57,
   "id": "78f5f0c3-3363-443e-b593-1760653f3aad",
   "metadata": {},
   "outputs": [
    {
     "name": "stdout",
     "output_type": "stream",
     "text": [
      "tensor([0.2540, 0.7716, 0.1775]) * tensor([0.3844, 0.0576, 0.9072]) = tensor([0.0976, 0.0445, 0.1610])\n"
     ]
    }
   ],
   "source": [
    "new_tensor = torch.rand(3)\n",
    "\n",
    "tensor * new_tensor \n",
    "\n",
    "print(f\"{tensor} * {new_tensor} = {tensor * new_tensor}\")"
   ]
  },
  {
   "cell_type": "markdown",
   "id": "72a5aacb-7b8b-4193-a046-bf21a0ff61e1",
   "metadata": {},
   "source": [
    "#### Pytorch in-built functions"
   ]
  },
  {
   "cell_type": "code",
   "execution_count": 59,
   "id": "d27ee65b-0601-4ab9-b516-eac4b78fd008",
   "metadata": {},
   "outputs": [
    {
     "data": {
      "text/plain": [
       "tensor([2.5397, 7.7157, 1.7753])"
      ]
     },
     "execution_count": 59,
     "metadata": {},
     "output_type": "execute_result"
    }
   ],
   "source": [
    "torch.mul(tensor, 10) # Multiplication"
   ]
  },
  {
   "cell_type": "code",
   "execution_count": 60,
   "id": "11ee2ca6-5f1e-4d7a-a983-10e4c40de5ab",
   "metadata": {},
   "outputs": [
    {
     "data": {
      "text/plain": [
       "tensor(0.3032)"
      ]
     },
     "execution_count": 60,
     "metadata": {},
     "output_type": "execute_result"
    }
   ],
   "source": [
    "torch.matmul(new_tensor, tensor) # Matrix Multiplication"
   ]
  },
  {
   "cell_type": "code",
   "execution_count": 61,
   "id": "036266ce-89a3-4a0c-876e-f2cd01863d77",
   "metadata": {},
   "outputs": [
    {
     "data": {
      "text/plain": [
       "tensor([0.0254, 0.0772, 0.0178])"
      ]
     },
     "execution_count": 61,
     "metadata": {},
     "output_type": "execute_result"
    }
   ],
   "source": [
    "torch.div(tensor, 10) # Division"
   ]
  },
  {
   "cell_type": "code",
   "execution_count": 62,
   "id": "5b6fe21e-2ea1-4f64-8e39-22e91b3392d3",
   "metadata": {},
   "outputs": [
    {
     "data": {
      "text/plain": [
       "tensor([10.2540, 10.7716, 10.1775])"
      ]
     },
     "execution_count": 62,
     "metadata": {},
     "output_type": "execute_result"
    }
   ],
   "source": [
    "torch.add(tensor, 10) # addition"
   ]
  },
  {
   "cell_type": "code",
   "execution_count": 63,
   "id": "195b01d5-e482-4a84-8aca-1d3e98f83495",
   "metadata": {},
   "outputs": [
    {
     "data": {
      "text/plain": [
       "tensor([-9.7460, -9.2284, -9.8225])"
      ]
     },
     "execution_count": 63,
     "metadata": {},
     "output_type": "execute_result"
    }
   ],
   "source": [
    "torch.sub(tensor, 10) # subtraction"
   ]
  },
  {
   "cell_type": "markdown",
   "id": "fa4ffb04-edf4-4756-93a2-8d883afa70a9",
   "metadata": {},
   "source": [
    "#### Comparison of execution time\n",
    "\n",
    "Built in functions utilize vectorized operations that take much less time to process"
   ]
  },
  {
   "cell_type": "code",
   "execution_count": 65,
   "id": "7c51f6e4-8d04-4f1e-9345-82b489268fa4",
   "metadata": {},
   "outputs": [
    {
     "name": "stdout",
     "output_type": "stream",
     "text": [
      "tensor(2.4061)\n",
      "CPU times: total: 0 ns\n",
      "Wall time: 2 ms\n"
     ]
    }
   ],
   "source": [
    "%%time \n",
    "value = 0\n",
    "for i in range(len(tensor)):\n",
    "    value += tensor[i]+ tensor[i]\n",
    "print(value)"
   ]
  },
  {
   "cell_type": "code",
   "execution_count": 66,
   "id": "02f59651-d055-4e48-bfc5-0ca178af9dc7",
   "metadata": {},
   "outputs": [
    {
     "name": "stdout",
     "output_type": "stream",
     "text": [
      "CPU times: total: 0 ns\n",
      "Wall time: 0 ns\n"
     ]
    },
    {
     "data": {
      "text/plain": [
       "tensor(0.6913)"
      ]
     },
     "execution_count": 66,
     "metadata": {},
     "output_type": "execute_result"
    }
   ],
   "source": [
    "%%time \n",
    "torch.matmul(tensor, tensor) # Matrix Multiplication"
   ]
  },
  {
   "cell_type": "markdown",
   "id": "9fb8246b-c12f-48e2-a47e-f5e32d8eaadb",
   "metadata": {},
   "source": [
    "### Matrix multiplication\n",
    "\n",
    "Two main ways of performing multiplication in neural networks and deep learning:\n",
    "\n",
    "1. Element-wise multiplication\n",
    "2. Matrix multiplication (dot product)\n",
    "\n",
    "More information on multiplying matrices: https://www.mathsisfun.com/algebra/matrix-multiplying.html\n",
    "\n",
    "There are two main rules for performing matrix multiplication\n",
    "1. The **inner dimensions** must match:\n",
    "* `(3,2) @ (3,2)` won't work\n",
    "* `(2,3) @ (3,2)` will work\n",
    "* `(3,2) @ (2,3)` will work\n",
    "2. The resulting matrix has the shape of the **outer dimensions**:\n",
    "* `(2,3) @ (3,2)` -> `(2,2)`\n",
    "* `(3,2) @ (2,3)` -> `(3,3)`\n"
   ]
  },
  {
   "cell_type": "code",
   "execution_count": 68,
   "id": "1b2d8d64-6978-494e-b4e6-a40d400112d0",
   "metadata": {},
   "outputs": [
    {
     "data": {
      "text/plain": [
       "torch.Size([10, 10])"
      ]
     },
     "execution_count": 68,
     "metadata": {},
     "output_type": "execute_result"
    }
   ],
   "source": [
    "# Example 1\n",
    "torch.matmul(torch.rand(10,10), torch.rand(10,10)).shape"
   ]
  },
  {
   "cell_type": "code",
   "execution_count": 69,
   "id": "f535ce91-11e1-4a17-a0b0-4017b4d8b3b8",
   "metadata": {},
   "outputs": [
    {
     "data": {
      "text/plain": [
       "(tensor([[1.8918, 1.8990],\n",
       "         [1.9147, 2.2229]]),\n",
       " torch.Size([2, 2]))"
      ]
     },
     "execution_count": 69,
     "metadata": {},
     "output_type": "execute_result"
    }
   ],
   "source": [
    "# Example 2\n",
    "torch.matmul(torch.rand(2,10), torch.rand(10,2)), torch.matmul(torch.rand(2,10), torch.rand(10,2)).shape"
   ]
  },
  {
   "cell_type": "code",
   "execution_count": 70,
   "id": "867913a4-a3d9-45f7-a407-1fd71e4a2675",
   "metadata": {},
   "outputs": [
    {
     "name": "stdout",
     "output_type": "stream",
     "text": [
      "mat1 and mat2 shapes cannot be multiplied (2x10 and 2x10)\n"
     ]
    }
   ],
   "source": [
    "# Example 3 : Error\n",
    "try:\n",
    "    torch.matmul(torch.rand(2,10), torch.rand(2,10)).shape\n",
    "except Exception as error:\n",
    "    print(error)"
   ]
  },
  {
   "cell_type": "markdown",
   "id": "dd452929-5ef0-4ffe-91d6-b8e34f47b8dc",
   "metadata": {},
   "source": [
    "### One of the most common errors in deep learning: shape errors"
   ]
  },
  {
   "cell_type": "code",
   "execution_count": 72,
   "id": "90270635-7994-4287-83ec-8ae3c3016d3d",
   "metadata": {},
   "outputs": [
    {
     "name": "stdout",
     "output_type": "stream",
     "text": [
      "mat1 and mat2 shapes cannot be multiplied (3x2 and 3x2)\n"
     ]
    }
   ],
   "source": [
    "# Shapes for matrix multiplication\n",
    "try:\n",
    "    tensor_A = torch.tensor([\n",
    "        [1,2], \n",
    "        [7,3] , \n",
    "        [5,10]])\n",
    "        \n",
    "    tensor_B = torch.tensor([\n",
    "        [6,2], \n",
    "        [7,5] , \n",
    "        [5,15]])\n",
    "    \n",
    "    torch.mm(tensor_A, tensor_B) \n",
    "    # torch.mm is the same as torch.matmul\n",
    "    #(it's an alias for torch.matmul())\n",
    "\n",
    "except Exception as error:\n",
    "    print(error)"
   ]
  },
  {
   "cell_type": "code",
   "execution_count": 73,
   "id": "5ac5e22e-ef96-4c5d-9c25-bed4a61495ff",
   "metadata": {},
   "outputs": [
    {
     "data": {
      "text/plain": [
       "torch.Size([3, 2])"
      ]
     },
     "execution_count": 73,
     "metadata": {},
     "output_type": "execute_result"
    }
   ],
   "source": [
    "tensor_A.shape"
   ]
  },
  {
   "cell_type": "code",
   "execution_count": 74,
   "id": "9349d084-a413-4cc3-89d4-4da3e82a5a98",
   "metadata": {},
   "outputs": [
    {
     "data": {
      "text/plain": [
       "torch.Size([3, 2])"
      ]
     },
     "execution_count": 74,
     "metadata": {},
     "output_type": "execute_result"
    }
   ],
   "source": [
    "tensor_B.shape"
   ]
  },
  {
   "cell_type": "markdown",
   "id": "e153f1a2-eaf0-4d04-8fed-16c1f26b806d",
   "metadata": {},
   "source": [
    "To fix our shape issues, we can maniputalte the shape of one of our tensors using a transpose operation"
   ]
  },
  {
   "cell_type": "code",
   "execution_count": 76,
   "id": "fab8b4ed-c0ee-4639-83a9-deb1a790de1c",
   "metadata": {},
   "outputs": [
    {
     "data": {
      "text/plain": [
       "tensor([[ 6,  7,  5],\n",
       "        [ 2,  5, 15]])"
      ]
     },
     "execution_count": 76,
     "metadata": {},
     "output_type": "execute_result"
    }
   ],
   "source": [
    "tensor_B.T # Transposed"
   ]
  },
  {
   "cell_type": "code",
   "execution_count": 77,
   "id": "0f1ff911-2512-471b-9bb9-eff001291236",
   "metadata": {},
   "outputs": [
    {
     "data": {
      "text/plain": [
       "(torch.Size([3, 2]), torch.Size([2, 3]))"
      ]
     },
     "execution_count": 77,
     "metadata": {},
     "output_type": "execute_result"
    }
   ],
   "source": [
    "tensor_A.shape, tensor_B.T.shape # Inner dimensions are the same !"
   ]
  },
  {
   "cell_type": "code",
   "execution_count": 78,
   "id": "c109e71f-8d6c-4bad-a094-1230f86a4262",
   "metadata": {},
   "outputs": [
    {
     "data": {
      "text/plain": [
       "tensor([[ 10,  17,  35],\n",
       "        [ 48,  64,  80],\n",
       "        [ 50,  85, 175]])"
      ]
     },
     "execution_count": 78,
     "metadata": {},
     "output_type": "execute_result"
    }
   ],
   "source": [
    "#The matrix multiplication works when tensor_B is transposed\n",
    "\n",
    "torch.mm(tensor_A, tensor_B.T) # Success!!"
   ]
  },
  {
   "cell_type": "markdown",
   "id": "abd64354-1764-42e4-a3a5-77aa3e3456dc",
   "metadata": {},
   "source": [
    "## Finding the min, max, mean , sum, etc (tensor agreggation)"
   ]
  },
  {
   "cell_type": "code",
   "execution_count": 80,
   "id": "20110ebd-4efd-4b86-857f-b921978e67cf",
   "metadata": {},
   "outputs": [
    {
     "data": {
      "text/plain": [
       "tensor([  0.,  10.,  20.,  30.,  40.,  50.,  60.,  70.,  80.,  90., 100.])"
      ]
     },
     "execution_count": 80,
     "metadata": {},
     "output_type": "execute_result"
    }
   ],
   "source": [
    "#Create a tensor\n",
    "x = torch.arange(0,101,10.)\n",
    "x"
   ]
  },
  {
   "cell_type": "code",
   "execution_count": 81,
   "id": "8c3a2336-5219-4dcd-b579-e7741dd06fab",
   "metadata": {},
   "outputs": [],
   "source": [
    "xInt = x.type(torch.int32)"
   ]
  },
  {
   "cell_type": "code",
   "execution_count": 82,
   "id": "a4c77ecc-79ca-4452-abc6-6251a0658e3e",
   "metadata": {},
   "outputs": [
    {
     "data": {
      "text/plain": [
       "(tensor(0.), tensor(0.))"
      ]
     },
     "execution_count": 82,
     "metadata": {},
     "output_type": "execute_result"
    }
   ],
   "source": [
    "# Find the min value\n",
    "torch.min(x) , x.min() "
   ]
  },
  {
   "cell_type": "code",
   "execution_count": 83,
   "id": "9c603879-2485-47b9-83b8-1559d88437ae",
   "metadata": {},
   "outputs": [
    {
     "data": {
      "text/plain": [
       "(tensor(100.), tensor(100.))"
      ]
     },
     "execution_count": 83,
     "metadata": {},
     "output_type": "execute_result"
    }
   ],
   "source": [
    "# Find the max value\n",
    "torch.max(x) , x.max() "
   ]
  },
  {
   "cell_type": "code",
   "execution_count": 84,
   "id": "f36415f0-73e4-499d-b35d-afa2e2b79516",
   "metadata": {},
   "outputs": [
    {
     "data": {
      "text/plain": [
       "(tensor(50.), tensor(50.))"
      ]
     },
     "execution_count": 84,
     "metadata": {},
     "output_type": "execute_result"
    }
   ],
   "source": [
    "# Find the mean\n",
    "torch.mean(x), x.mean() # success"
   ]
  },
  {
   "cell_type": "code",
   "execution_count": 85,
   "id": "c3ef68e7-a2bf-40a6-a0ce-77e832e6ec93",
   "metadata": {},
   "outputs": [
    {
     "name": "stdout",
     "output_type": "stream",
     "text": [
      "mean(): could not infer output dtype. Input dtype must be either a floating point or complex dtype. Got: Int\n"
     ]
    }
   ],
   "source": [
    "# Find the mean \n",
    " # it can only be performed on float or complex dtypes\n",
    "try:\n",
    "    torch.mean(xInt) , xInt.mean() \n",
    "except Exception as error:\n",
    "    print(error)"
   ]
  },
  {
   "cell_type": "code",
   "execution_count": 86,
   "id": "04538a78-d1e8-4836-bda9-77442bb54c19",
   "metadata": {},
   "outputs": [
    {
     "data": {
      "text/plain": [
       "(tensor(550), tensor(550))"
      ]
     },
     "execution_count": 86,
     "metadata": {},
     "output_type": "execute_result"
    }
   ],
   "source": [
    "# Find the sum \n",
    "torch.sum(xInt) , xInt.sum()"
   ]
  },
  {
   "cell_type": "markdown",
   "id": "954016ad-996f-45ee-9821-e4ecb845e82c",
   "metadata": {},
   "source": [
    "## Finding the position min and max"
   ]
  },
  {
   "cell_type": "code",
   "execution_count": 88,
   "id": "cef98cf6-ed30-472f-a4be-dcb441ae250d",
   "metadata": {},
   "outputs": [
    {
     "data": {
      "text/plain": [
       "tensor([  0.,  10.,  20.,  30.,  40.,  50.,  60.,  70.,  80.,  90., 100.])"
      ]
     },
     "execution_count": 88,
     "metadata": {},
     "output_type": "execute_result"
    }
   ],
   "source": [
    "x"
   ]
  },
  {
   "cell_type": "code",
   "execution_count": 89,
   "id": "eb0c48d5-41ff-41fa-9d74-4179feecd2c9",
   "metadata": {},
   "outputs": [
    {
     "data": {
      "text/plain": [
       "(tensor(10), tensor(10))"
      ]
     },
     "execution_count": 89,
     "metadata": {},
     "output_type": "execute_result"
    }
   ],
   "source": [
    "#Find the index of the maxValue\n",
    "torch.argmax(x), x.argmax() \n"
   ]
  },
  {
   "cell_type": "code",
   "execution_count": 90,
   "id": "9e478477-3bdb-42fd-8b4b-f10109f7f54e",
   "metadata": {},
   "outputs": [
    {
     "data": {
      "text/plain": [
       "(tensor(0), tensor(0))"
      ]
     },
     "execution_count": 90,
     "metadata": {},
     "output_type": "execute_result"
    }
   ],
   "source": [
    "#Find the index of the minValue\n",
    "torch.argmin(x), x.argmin() "
   ]
  },
  {
   "cell_type": "markdown",
   "id": "defe600c-f29a-4f23-a3e8-f56b80b452c0",
   "metadata": {},
   "source": [
    "## Reshaping, stacking, squeezing and unsqueezing tensors\n",
    "\n",
    "* Resphaping - reshapes an input tensor to a defined shape\n",
    "* View - return a view of an input tensor of certain shape but keep the same memory as the original tensor\n",
    "* Stacking - combine multiple tensors on top of each other (vstack) or side by side (hstack)\n",
    "* Squeeze - removes all `1` dimensions from a tensor\n",
    "* Unsqueeze - add `1` dimension to a tensor\n",
    "* Permute - Return a view of the input with dimensions permuted (swapped) in a certain way"
   ]
  },
  {
   "cell_type": "code",
   "execution_count": 92,
   "id": "8e5b3568-f037-4174-a959-31ba2b261370",
   "metadata": {},
   "outputs": [
    {
     "data": {
      "text/plain": [
       "(tensor([1., 2., 3., 4., 5., 6., 7., 8., 9.]), torch.Size([9]))"
      ]
     },
     "execution_count": 92,
     "metadata": {},
     "output_type": "execute_result"
    }
   ],
   "source": [
    "# Create a tensor\n",
    "x = torch.arange(1.,10.)\n",
    "\n",
    "x, x.shape"
   ]
  },
  {
   "cell_type": "code",
   "execution_count": 93,
   "id": "278d7ef7-a18c-48da-a328-4e07248dd683",
   "metadata": {},
   "outputs": [
    {
     "name": "stdout",
     "output_type": "stream",
     "text": [
      "shape '[1, 7]' is invalid for input of size 9\n"
     ]
    }
   ],
   "source": [
    "# Add an extra dimension\n",
    "try:\n",
    "    x_reshaped = x.reshape(1,7) #reshape must be the number of elements factorized\n",
    "    x_reshaped, x_reshaped.shape\n",
    "except Exception as error:\n",
    "    print (error) #This raises an error because 1 x 7 != 9"
   ]
  },
  {
   "cell_type": "code",
   "execution_count": 94,
   "id": "0dd1bf85-19e7-4ec9-89cf-32d97e11ffbb",
   "metadata": {},
   "outputs": [
    {
     "data": {
      "text/plain": [
       "(tensor([[1., 2., 3., 4., 5., 6., 7., 8., 9.]]), torch.Size([1, 9]))"
      ]
     },
     "execution_count": 94,
     "metadata": {},
     "output_type": "execute_result"
    }
   ],
   "source": [
    "# Add an extra dimension\n",
    "x_reshaped = x.reshape(1,9) \n",
    "x_reshaped, x_reshaped.shape #This works because 1x9 = 9"
   ]
  },
  {
   "cell_type": "code",
   "execution_count": 95,
   "id": "0504649f-16e8-4fd1-b2b5-f92961cdb278",
   "metadata": {},
   "outputs": [
    {
     "data": {
      "text/plain": [
       "(tensor([[[1., 2., 3.],\n",
       "          [4., 5., 6.],\n",
       "          [7., 8., 9.]]]),\n",
       " torch.Size([1, 3, 3]))"
      ]
     },
     "execution_count": 95,
     "metadata": {},
     "output_type": "execute_result"
    }
   ],
   "source": [
    "# Add an extra dimension\n",
    "x_reshaped = x.reshape(1,3,3)  #This works because 1x3x3 = 9\n",
    "x_reshaped, x_reshaped.shape"
   ]
  },
  {
   "cell_type": "code",
   "execution_count": 96,
   "id": "2dcd22c0-a4cb-4667-adca-da45db029f0f",
   "metadata": {},
   "outputs": [
    {
     "data": {
      "text/plain": [
       "(tensor([[1., 2., 3.],\n",
       "         [4., 5., 6.],\n",
       "         [7., 8., 9.]]),\n",
       " torch.Size([3, 3]))"
      ]
     },
     "execution_count": 96,
     "metadata": {},
     "output_type": "execute_result"
    }
   ],
   "source": [
    "# View ( a copy of a tensor with different shape)\n",
    "z = x.view(3,3)\n",
    "z , z.shape"
   ]
  },
  {
   "cell_type": "code",
   "execution_count": 97,
   "id": "1b1c92dc-8468-4ff7-a613-f05c92f2d3be",
   "metadata": {},
   "outputs": [
    {
     "data": {
      "text/plain": [
       "(tensor([[10.,  2.,  3.],\n",
       "         [ 4.,  5.,  6.],\n",
       "         [ 7.,  8.,  9.]]),\n",
       " tensor([10.,  2.,  3.,  4.,  5.,  6.,  7.,  8.,  9.]))"
      ]
     },
     "execution_count": 97,
     "metadata": {},
     "output_type": "execute_result"
    }
   ],
   "source": [
    "# Z and X share the same memory,\n",
    "#even though z is a copy changing it will lead to changes in x\n",
    "z[0,0] = 10\n",
    "z , x"
   ]
  },
  {
   "cell_type": "code",
   "execution_count": 183,
   "id": "25a80a28-adf4-4214-b044-0dce5dbf6dfc",
   "metadata": {},
   "outputs": [
    {
     "data": {
      "text/plain": [
       "tensor([[10., 10., 10., 10.],\n",
       "        [ 2.,  2.,  2.,  2.],\n",
       "        [ 3.,  3.,  3.,  3.],\n",
       "        [ 4.,  4.,  4.,  4.],\n",
       "        [ 5.,  5.,  5.,  5.],\n",
       "        [ 6.,  6.,  6.,  6.],\n",
       "        [ 7.,  7.,  7.,  7.],\n",
       "        [ 8.,  8.,  8.,  8.],\n",
       "        [ 9.,  9.,  9.,  9.]])"
      ]
     },
     "execution_count": 183,
     "metadata": {},
     "output_type": "execute_result"
    }
   ],
   "source": [
    "# Stack tensors on top of each otherab\n",
    "x_stacked = torch.stack([x,x,x,x], dim = 1) \n",
    "x_stacked"
   ]
  },
  {
   "cell_type": "code",
   "execution_count": 201,
   "id": "ae8098f4-e211-47e6-8aa0-4037f5f4b93a",
   "metadata": {},
   "outputs": [
    {
     "data": {
      "text/plain": [
       "tensor([10.,  2.,  3.,  4.,  5.,  6.,  7.,  8.,  9.])"
      ]
     },
     "execution_count": 201,
     "metadata": {},
     "output_type": "execute_result"
    }
   ],
   "source": [
    "x_squeezed = x.squeeze() \n",
    "x_squeezed"
   ]
  },
  {
   "cell_type": "code",
   "execution_count": 203,
   "id": "12abfc39-2f0e-447c-abe0-6c462e9ab3ee",
   "metadata": {},
   "outputs": [
    {
     "data": {
      "text/plain": [
       "(tensor([[[1, 2, 3, 4, 5]]]), torch.Size([1, 1, 5]))"
      ]
     },
     "execution_count": 203,
     "metadata": {},
     "output_type": "execute_result"
    }
   ],
   "source": [
    "y = torch.tensor([[[1,2,3,4,5]]])\n",
    "y , y.shape"
   ]
  },
  {
   "cell_type": "code",
   "execution_count": 205,
   "id": "710ceec4-2805-414a-a62c-e0659d82c12a",
   "metadata": {},
   "outputs": [
    {
     "data": {
      "text/plain": [
       "(tensor([1, 2, 3, 4, 5]), torch.Size([5]))"
      ]
     },
     "execution_count": 205,
     "metadata": {},
     "output_type": "execute_result"
    }
   ],
   "source": [
    "y_squeezed = y.squeeze() #Remove single dimensions for example\n",
    "y_squeezed, y_squeezed.shape # In this case the y shape was [1,1,5] and it became [5]"
   ]
  },
  {
   "cell_type": "code",
   "execution_count": 237,
   "id": "931a35ea-3915-4140-9287-280b20c63baa",
   "metadata": {},
   "outputs": [
    {
     "data": {
      "text/plain": [
       "tensor([[1, 2, 3, 4, 5]])"
      ]
     },
     "execution_count": 237,
     "metadata": {},
     "output_type": "execute_result"
    }
   ],
   "source": [
    "y_unsqueezed = y_squeezed.unsqueeze(dim = 0) # Add a single dimension on the 0th dimension (dim = 0)\n",
    "y_unsqueezed"
   ]
  },
  {
   "cell_type": "code",
   "execution_count": 239,
   "id": "69026470-197e-441f-ba30-71fde19fb07f",
   "metadata": {},
   "outputs": [
    {
     "data": {
      "text/plain": [
       "tensor([[10.],\n",
       "        [ 2.],\n",
       "        [ 3.],\n",
       "        [ 4.],\n",
       "        [ 5.],\n",
       "        [ 6.],\n",
       "        [ 7.],\n",
       "        [ 8.],\n",
       "        [ 9.]])"
      ]
     },
     "execution_count": 239,
     "metadata": {},
     "output_type": "execute_result"
    }
   ],
   "source": [
    "x_unsqueezed = x.unsqueeze(dim = 1) # Add a single dimension on the 1st dimension (dim = 1)\n",
    "x_unsqueezed"
   ]
  },
  {
   "cell_type": "code",
   "execution_count": 255,
   "id": "734bebee-820a-42a7-aedd-7b2e68e6b73a",
   "metadata": {},
   "outputs": [
    {
     "data": {
      "text/plain": [
       "torch.Size([2, 3, 5])"
      ]
     },
     "execution_count": 255,
     "metadata": {},
     "output_type": "execute_result"
    }
   ],
   "source": [
    "#Permutation\n",
    "x = torch.randn(2,3,5)\n",
    "x.size() # = x.shape"
   ]
  },
  {
   "cell_type": "code",
   "execution_count": 249,
   "id": "f94af644-aa5e-4a15-8d95-13dada5830c9",
   "metadata": {},
   "outputs": [
    {
     "data": {
      "text/plain": [
       "torch.Size([5, 2, 3])"
      ]
     },
     "execution_count": 249,
     "metadata": {},
     "output_type": "execute_result"
    }
   ],
   "source": [
    "torch.permute(x , (2,0,1)).size()  # change the dimensions order\n",
    "# Instead of 0 -> 2 ,1 -> 0, 2 -> 1 : [2, 3, 5] -> [5, 2, 3]"
   ]
  },
  {
   "cell_type": "code",
   "execution_count": 263,
   "id": "6b0212ba-7d00-4782-93e6-241eacde4db2",
   "metadata": {},
   "outputs": [
    {
     "data": {
      "text/plain": [
       "torch.Size([3, 224, 224])"
      ]
     },
     "execution_count": 263,
     "metadata": {},
     "output_type": "execute_result"
    }
   ],
   "source": [
    "#Real use case \n",
    "x_original =  torch.rand(size = (224,224, 3)) # [height, width, colour_channel] \n",
    "\n",
    "x_permuted = x_original.permute(2,0,1)\n",
    "\n",
    "x_permuted.shape"
   ]
  },
  {
   "cell_type": "code",
   "execution_count": 267,
   "id": "38cca8bd-d817-4cba-8b01-16d438450e87",
   "metadata": {},
   "outputs": [],
   "source": [
    "x_original[0,0,0] = 100"
   ]
  },
  {
   "cell_type": "code",
   "execution_count": 269,
   "id": "67447d2f-8fb2-4c51-96fc-01409b604a37",
   "metadata": {},
   "outputs": [
    {
     "data": {
      "text/plain": [
       "tensor(100.)"
      ]
     },
     "execution_count": 269,
     "metadata": {},
     "output_type": "execute_result"
    }
   ],
   "source": [
    "x_permuted[0,0,0]"
   ]
  },
  {
   "cell_type": "code",
   "execution_count": 271,
   "id": "957ec94a-d349-4c4b-9a9e-87015745cbfe",
   "metadata": {},
   "outputs": [],
   "source": [
    "x_permuted[0,0,0] = 10"
   ]
  },
  {
   "cell_type": "code",
   "execution_count": 273,
   "id": "aa092683-f6cb-4df9-ae9c-814a5ce93337",
   "metadata": {},
   "outputs": [
    {
     "data": {
      "text/plain": [
       "tensor(10.)"
      ]
     },
     "execution_count": 273,
     "metadata": {},
     "output_type": "execute_result"
    }
   ],
   "source": [
    "x_original[0,0,0]"
   ]
  },
  {
   "cell_type": "markdown",
   "id": "3482d992-449a-4faf-989f-e16c07077be2",
   "metadata": {},
   "source": [
    "## Indexing (selecting data from tensors)\n",
    "Indexing with Pytorch is similar to indexing with NumPy."
   ]
  },
  {
   "cell_type": "code",
   "execution_count": 279,
   "id": "86196d56-4138-4cb7-af41-8d13b8a808da",
   "metadata": {},
   "outputs": [
    {
     "data": {
      "text/plain": [
       "(tensor([[[ 1,  2,  3],\n",
       "          [ 4,  5,  6],\n",
       "          [ 7,  8,  9]],\n",
       " \n",
       "         [[10, 11, 12],\n",
       "          [13, 14, 15],\n",
       "          [16, 17, 18]],\n",
       " \n",
       "         [[19, 20, 21],\n",
       "          [22, 23, 24],\n",
       "          [25, 26, 27]]]),\n",
       " torch.Size([3, 3, 3]))"
      ]
     },
     "execution_count": 279,
     "metadata": {},
     "output_type": "execute_result"
    }
   ],
   "source": [
    "x = torch.arange(1,28).reshape(3,3,3)\n",
    "x , x.shape"
   ]
  },
  {
   "cell_type": "code",
   "execution_count": 281,
   "id": "fd800b02-827f-435e-bf23-affd5f7a07a5",
   "metadata": {},
   "outputs": [
    {
     "data": {
      "text/plain": [
       "tensor([[1, 2, 3],\n",
       "        [4, 5, 6],\n",
       "        [7, 8, 9]])"
      ]
     },
     "execution_count": 281,
     "metadata": {},
     "output_type": "execute_result"
    }
   ],
   "source": [
    "x[0]"
   ]
  },
  {
   "cell_type": "code",
   "execution_count": 283,
   "id": "3a607db0-a20c-40e8-8dc3-3055e59fe88e",
   "metadata": {},
   "outputs": [
    {
     "data": {
      "text/plain": [
       "tensor([4, 5, 6])"
      ]
     },
     "execution_count": 283,
     "metadata": {},
     "output_type": "execute_result"
    }
   ],
   "source": [
    "x[0, 1] # or x[0][1]"
   ]
  },
  {
   "cell_type": "code",
   "execution_count": 292,
   "id": "2bb88975-6c4f-4539-a945-96d6e13f517a",
   "metadata": {},
   "outputs": [
    {
     "data": {
      "text/plain": [
       "tensor(6)"
      ]
     },
     "execution_count": 292,
     "metadata": {},
     "output_type": "execute_result"
    }
   ],
   "source": [
    "x[0, 1 ,2] # or x[0][1][2]"
   ]
  },
  {
   "cell_type": "code",
   "execution_count": 294,
   "id": "c26d8275-2f5c-485e-8e6a-c5236d628054",
   "metadata": {},
   "outputs": [
    {
     "name": "stdout",
     "output_type": "stream",
     "text": [
      "index 4 is out of bounds for dimension 0 with size 3\n"
     ]
    }
   ],
   "source": [
    "try:\n",
    "    x[4]\n",
    "except Exception as error:\n",
    "    print(f\"{error}\")"
   ]
  },
  {
   "cell_type": "code",
   "execution_count": 321,
   "id": "a574e8db-e86c-4def-b0e6-0a5b2cd98c13",
   "metadata": {},
   "outputs": [
    {
     "data": {
      "text/plain": [
       "tensor([[19, 20, 21],\n",
       "        [22, 23, 24],\n",
       "        [25, 26, 27]])"
      ]
     },
     "execution_count": 321,
     "metadata": {},
     "output_type": "execute_result"
    }
   ],
   "source": [
    "x[2, :] # : -> select all elements of dimension"
   ]
  },
  {
   "cell_type": "code",
   "execution_count": 323,
   "id": "159268e0-62e8-4f30-be1c-6994cac636eb",
   "metadata": {},
   "outputs": [
    {
     "data": {
      "text/plain": [
       "tensor([22, 23, 24])"
      ]
     },
     "execution_count": 323,
     "metadata": {},
     "output_type": "execute_result"
    }
   ],
   "source": [
    "# return the whole array from position 2, 1\n",
    "x[2, 1, :] "
   ]
  },
  {
   "cell_type": "code",
   "execution_count": 325,
   "id": "907d05cc-dd36-4c58-9c6c-d7d7026ed2c7",
   "metadata": {},
   "outputs": [
    {
     "data": {
      "text/plain": [
       "tensor([23, 24])"
      ]
     },
     "execution_count": 325,
     "metadata": {},
     "output_type": "execute_result"
    }
   ],
   "source": [
    "# return the array from position 2, 1 starting in the second position\n",
    "x[2, 1, 1:] "
   ]
  },
  {
   "cell_type": "markdown",
   "id": "3418740c-bbc1-4b9c-aa1c-4a63ed34b1bd",
   "metadata": {},
   "source": [
    "## PyTorch tensors & Numpy \n",
    "Numpy is a popular scientific python numerical computing library.\n",
    "\n",
    "And because of this, PyTorch has functionality to interact with it.\n",
    "\n",
    "* Data in Numpy, want in PyTorch tensor `torch.from_numpy(ndarray)`\n",
    "\n",
    "* PyTorch tensor -> Numpy -> `torch.Tensor.numpy()`"
   ]
  },
  {
   "cell_type": "code",
   "execution_count": 345,
   "id": "53a05085-a1f5-44f3-8adb-432dd69da902",
   "metadata": {},
   "outputs": [
    {
     "data": {
      "text/plain": [
       "(array([1, 2, 3, 4, 5, 6, 7]),\n",
       " dtype('int32'),\n",
       " tensor([1, 2, 3, 4, 5, 6, 7], dtype=torch.int32))"
      ]
     },
     "execution_count": 345,
     "metadata": {},
     "output_type": "execute_result"
    }
   ],
   "source": [
    "# Numpy array to tensor\n",
    "import torch\n",
    "import numpy as np\n",
    "\n",
    "array = np.arange(1,8)\n",
    "tensor = torch.from_numpy(array)\n",
    "array , array.dtype , tensor"
   ]
  },
  {
   "cell_type": "code",
   "execution_count": 349,
   "id": "db349557-e0f5-4928-a83f-668b2666c9fc",
   "metadata": {},
   "outputs": [
    {
     "data": {
      "text/plain": [
       "(array([3, 4, 5, 6, 7, 8, 9]),\n",
       " tensor([1, 2, 3, 4, 5, 6, 7], dtype=torch.int32))"
      ]
     },
     "execution_count": 349,
     "metadata": {},
     "output_type": "execute_result"
    }
   ],
   "source": [
    "#Changing the value of original array does not change tensor \n",
    "array = array + 1 \n",
    "array , tensor"
   ]
  },
  {
   "cell_type": "code",
   "execution_count": 351,
   "id": "038c2337-62b7-422c-9ae4-d0c5d9d642c5",
   "metadata": {},
   "outputs": [
    {
     "data": {
      "text/plain": [
       "(tensor([1., 1., 1., 1., 1., 1., 1.]),\n",
       " array([1., 1., 1., 1., 1., 1., 1.], dtype=float32))"
      ]
     },
     "execution_count": 351,
     "metadata": {},
     "output_type": "execute_result"
    }
   ],
   "source": [
    "# Tensor to NumPy array\n",
    "tensor = torch.ones(7)\n",
    "\n",
    "numpy_tensor = tensor.numpy()\n",
    "\n",
    "tensor, numpy_tensor"
   ]
  },
  {
   "cell_type": "markdown",
   "id": "70677328-4225-4242-b023-66592f0fad5f",
   "metadata": {},
   "source": [
    "## Reproducibility (trying to take random out of random)\n",
    "\n",
    "In short how a neural network learns:\n",
    "\n",
    "`Start with random numbers -> tensor operations -> update random numbers to try and make them better representations of the data -> again -> again -> again`\n",
    "\n",
    "To reduce randomness we can use the **same random seed**"
   ]
  },
  {
   "cell_type": "code",
   "execution_count": 362,
   "id": "6a4a6d0d-0af5-47b3-ae61-8b18a047792a",
   "metadata": {},
   "outputs": [
    {
     "data": {
      "text/plain": [
       "tensor([[0.0688, 0.2926, 0.1974],\n",
       "        [0.5002, 0.7387, 0.6784],\n",
       "        [0.5851, 0.0456, 0.1940]])"
      ]
     },
     "execution_count": 362,
     "metadata": {},
     "output_type": "execute_result"
    }
   ],
   "source": [
    "torch.rand(3,3) #everytime we run this values will be random"
   ]
  },
  {
   "cell_type": "code",
   "execution_count": 372,
   "id": "67cc206a-ee2c-4aee-a496-063b12659d85",
   "metadata": {},
   "outputs": [
    {
     "data": {
      "text/plain": [
       "tensor([[True, True],\n",
       "        [True, True]])"
      ]
     },
     "execution_count": 372,
     "metadata": {},
     "output_type": "execute_result"
    }
   ],
   "source": [
    "#Lets make random but reproducible tensors\n",
    "\n",
    "#Set the random seed\n",
    "random_seed = 42\n",
    "\n",
    "#Use manual_seed before \"random\" operations\n",
    "torch.manual_seed(random_seed) \n",
    "random_tensor_C = torch.rand(2,2)\n",
    "\n",
    "torch.manual_seed(random_seed)\n",
    "random_tensor_D = torch.rand(2,2)\n",
    "\n",
    "random_tensor_D == random_tensor_C"
   ]
  },
  {
   "cell_type": "markdown",
   "id": "588e37a3-f9e5-48a4-a816-7a67d33f01cb",
   "metadata": {},
   "source": [
    "## Running tensors and PyTorch objetcts on the GPUs (and making faster computations)\n",
    "\n",
    "GPUs = faster computation on numbers, thanks to cuda + nvidia + pytorch working behind the scenes\n",
    "\n",
    "### Best Practices \n",
    "https://pytorch.org/docs/main/notes/cuda.html#best-practices"
   ]
  },
  {
   "cell_type": "code",
   "execution_count": 377,
   "id": "2028772f-03e0-432e-a370-9b9d1976d796",
   "metadata": {},
   "outputs": [
    {
     "name": "stdout",
     "output_type": "stream",
     "text": [
      "Tue Oct 15 17:10:08 2024       \n",
      "+-----------------------------------------------------------------------------------------+\n",
      "| NVIDIA-SMI 552.44                 Driver Version: 552.44         CUDA Version: 12.4     |\n",
      "|-----------------------------------------+------------------------+----------------------+\n",
      "| GPU  Name                     TCC/WDDM  | Bus-Id          Disp.A | Volatile Uncorr. ECC |\n",
      "| Fan  Temp   Perf          Pwr:Usage/Cap |           Memory-Usage | GPU-Util  Compute M. |\n",
      "|                                         |                        |               MIG M. |\n",
      "|=========================================+========================+======================|\n",
      "|   0  NVIDIA GeForce RTX 2060      WDDM  |   00000000:01:00.0  On |                  N/A |\n",
      "| N/A   58C    P8             13W /  115W |    1158MiB /   6144MiB |     19%      Default |\n",
      "|                                         |                        |                  N/A |\n",
      "+-----------------------------------------+------------------------+----------------------+\n",
      "                                                                                         \n",
      "+-----------------------------------------------------------------------------------------+\n",
      "| Processes:                                                                              |\n",
      "|  GPU   GI   CI        PID   Type   Process name                              GPU Memory |\n",
      "|        ID   ID                                                               Usage      |\n",
      "|=========================================================================================|\n",
      "|    0   N/A  N/A       368    C+G   ...on\\129.0.2792.89\\msedgewebview2.exe      N/A      |\n",
      "|    0   N/A  N/A      3700    C+G   ...on\\129.0.2792.89\\msedgewebview2.exe      N/A      |\n",
      "|    0   N/A  N/A      6708    C+G   ...5n1h2txyewy\\ShellExperienceHost.exe      N/A      |\n",
      "|    0   N/A  N/A      7484    C+G   ...on\\wallpaper_engine\\wallpaper32.exe      N/A      |\n",
      "|    0   N/A  N/A     11960    C+G   ...m Files\\Mozilla Firefox\\firefox.exe      N/A      |\n",
      "|    0   N/A  N/A     13132    C+G   ...tionsPlus\\logioptionsplus_agent.exe      N/A      |\n",
      "|    0   N/A  N/A     18748    C+G   ...CBS_cw5n1h2txyewy\\TextInputHost.exe      N/A      |\n",
      "|    0   N/A  N/A     21764    C+G   C:\\Windows\\explorer.exe                     N/A      |\n",
      "|    0   N/A  N/A     22500    C+G   ...nt.CBS_cw5n1h2txyewy\\SearchHost.exe      N/A      |\n",
      "|    0   N/A  N/A     26676    C+G   ...m Files\\Mozilla Firefox\\firefox.exe      N/A      |\n",
      "|    0   N/A  N/A     26912    C+G   ...GeForce Experience\\NVIDIA Share.exe      N/A      |\n",
      "|    0   N/A  N/A     28232    C+G   ...t.LockApp_cw5n1h2txyewy\\LockApp.exe      N/A      |\n",
      "|    0   N/A  N/A     28764    C+G   ....53_x64__8wekyb3d8bbwe\\ms-teams.exe      N/A      |\n",
      "|    0   N/A  N/A     30008    C+G   ...2txyewy\\StartMenuExperienceHost.exe      N/A      |\n",
      "|    0   N/A  N/A     32172    C+G   ...05.0_x64__zpdnekdrzrea0\\Spotify.exe      N/A      |\n",
      "|    0   N/A  N/A     32508    C+G   ...219.0_x64__dt26b99r8h8gj\\RtkUWP.exe      N/A      |\n",
      "|    0   N/A  N/A     32536      C   C:\\Users\\Tiago\\anaconda3\\python.exe         N/A      |\n",
      "|    0   N/A  N/A     32996    C+G   ...__8wekyb3d8bbwe\\WindowsTerminal.exe      N/A      |\n",
      "|    0   N/A  N/A     33200    C+G   ...mpt_builder\\LogiAiPromptBuilder.exe      N/A      |\n",
      "|    0   N/A  N/A     34424    C+G   ...408.9.0_x64__8wekyb3d8bbwe\\Time.exe      N/A      |\n",
      "+-----------------------------------------------------------------------------------------+\n"
     ]
    }
   ],
   "source": [
    "###\n",
    "!nvidia-smi"
   ]
  },
  {
   "cell_type": "code",
   "execution_count": 379,
   "id": "ee897871-990d-4f7a-9d01-45aa8f0c5d82",
   "metadata": {},
   "outputs": [
    {
     "data": {
      "text/plain": [
       "True"
      ]
     },
     "execution_count": 379,
     "metadata": {},
     "output_type": "execute_result"
    }
   ],
   "source": [
    "torch.cuda.is_available()"
   ]
  },
  {
   "cell_type": "code",
   "execution_count": 383,
   "id": "953b5900-922e-4418-b15e-4e63e28566dd",
   "metadata": {},
   "outputs": [
    {
     "data": {
      "text/plain": [
       "'cuda'"
      ]
     },
     "execution_count": 383,
     "metadata": {},
     "output_type": "execute_result"
    }
   ],
   "source": [
    "# Setup device agnostic code\n",
    "device = 'cuda' if torch.cuda.is_available() else \"cpu\"\n",
    "device"
   ]
  },
  {
   "cell_type": "code",
   "execution_count": 385,
   "id": "1ba25790-a0d9-4db3-8457-8845c1ae07c7",
   "metadata": {},
   "outputs": [
    {
     "data": {
      "text/plain": [
       "1"
      ]
     },
     "execution_count": 385,
     "metadata": {},
     "output_type": "execute_result"
    }
   ],
   "source": [
    "# Count number of gpus\n",
    "torch.cuda.device_count()"
   ]
  },
  {
   "cell_type": "markdown",
   "id": "fdf1e8b4-b0f0-4a2a-a2e5-9bc167dab14e",
   "metadata": {},
   "source": [
    "### Putting tensors and models on the GPU "
   ]
  },
  {
   "cell_type": "code",
   "execution_count": 392,
   "id": "947e53b4-63f5-4279-a214-765997a9a2ed",
   "metadata": {},
   "outputs": [
    {
     "name": "stdout",
     "output_type": "stream",
     "text": [
      "tensor([1, 2, 3]) cpu\n"
     ]
    }
   ],
   "source": [
    "#Create tensor (default to the CPU)\n",
    "tensor = torch.tensor([1,2,3])\n",
    "\n",
    "#Tensor not on GPU\n",
    "print(tensor, tensor.device)\n"
   ]
  },
  {
   "cell_type": "code",
   "execution_count": 394,
   "id": "1d2bf7ec-d190-476f-a8f9-ef12b9e1f4ca",
   "metadata": {},
   "outputs": [
    {
     "data": {
      "text/plain": [
       "tensor([1, 2, 3], device='cuda:0')"
      ]
     },
     "execution_count": 394,
     "metadata": {},
     "output_type": "execute_result"
    }
   ],
   "source": [
    "# Move tensor to GPU (if available)\n",
    "tensor_on_gpu = tensor.to(device)\n",
    "tensor_on_gpu"
   ]
  },
  {
   "cell_type": "code",
   "execution_count": 400,
   "id": "37dafae2-3c8b-4d0f-bae5-69f9717ad6e6",
   "metadata": {},
   "outputs": [
    {
     "name": "stdout",
     "output_type": "stream",
     "text": [
      "can't convert cuda:0 device type tensor to numpy. Use Tensor.cpu() to copy the tensor to host memory first.\n"
     ]
    }
   ],
   "source": [
    "#If tensor is on GPU, Can't transform it to NumPy\n",
    "try:\n",
    "    tensor_on_gpu.numpy()\n",
    "except Exception as error:\n",
    "    print(error)"
   ]
  },
  {
   "cell_type": "code",
   "execution_count": 406,
   "id": "be78dc41-d01b-4351-8a73-43d943c02d2e",
   "metadata": {},
   "outputs": [
    {
     "data": {
      "text/plain": [
       "(device(type='cpu'), array([1, 2, 3], dtype=int64))"
      ]
     },
     "execution_count": 406,
     "metadata": {},
     "output_type": "execute_result"
    }
   ],
   "source": [
    "# To fix this error \n",
    "\n",
    "tensor_back_on_CPU = tensor_on_gpu.to('cpu')\n",
    "\n",
    "tensor_back_on_CPU.device, tensor_back_on_CPU.numpy()"
   ]
  }
 ],
 "metadata": {
  "kernelspec": {
   "display_name": "Python 3 (ipykernel)",
   "language": "python",
   "name": "python3"
  },
  "language_info": {
   "codemirror_mode": {
    "name": "ipython",
    "version": 3
   },
   "file_extension": ".py",
   "mimetype": "text/x-python",
   "name": "python",
   "nbconvert_exporter": "python",
   "pygments_lexer": "ipython3",
   "version": "3.11.7"
  }
 },
 "nbformat": 4,
 "nbformat_minor": 5
}
